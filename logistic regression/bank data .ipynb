{
 "cells": [
  {
   "cell_type": "markdown",
   "id": "14b1c7ea",
   "metadata": {},
   "source": [
    "Classify whether application accepted or not using Logistic regression\n",
    "\n",
    "card\n",
    "Factor. Was the application for a credit card accepted?\n",
    "\n",
    "reports\n",
    "Number of major derogatory reports.\n",
    "\n",
    "age\n",
    "Age in years plus twelfths of a year.\n",
    "\n",
    "income\n",
    "Yearly income (in USD 10,000).\n",
    "\n",
    "share\n",
    "Ratio of monthly credit card expenditure to yearly income.\n",
    "\n",
    "expenditure\n",
    "Average monthly credit card expenditure.\n",
    "\n",
    "owner\n",
    "Factor. Does the individual own their home?\n",
    "\n",
    "selfemp\n",
    "Factor. Is the individual self-employed?\n",
    "\n",
    "dependents\n",
    "Number of dependents.\n",
    "\n",
    "months\n",
    "Months living at current address.\n",
    "\n",
    "majorcards\n",
    "Number of major credit cards held.\n",
    "\n",
    "active\n",
    "Number of active credit accounts."
   ]
  },
  {
   "cell_type": "markdown",
   "id": "29a526ba",
   "metadata": {},
   "source": [
    "Output variable -> y\n",
    "y -> Whether the client has subscribed a term deposit or not \n",
    "Binomial (\"yes\" or \"no\")"
   ]
  },
  {
   "cell_type": "code",
   "execution_count": null,
   "id": "da6edfdf",
   "metadata": {},
   "outputs": [],
   "source": [
    "import numpy as np\n",
    "import pandas as pd\n",
    "import matplotlib.pyplot as plt\n",
    "import statsmodels.api as sm\n",
    "from numpy.polynomial.polynomial import polyfit\n",
    "from sklearn.linear_model import LogisticRegression\n",
    "import seaborn as sns\n",
    "import statsmodels.stats.tests.test_influence\n",
    "from sklearn.feature_selection import RFE\n",
    "from statsmodels.stats.outliers_influence import variance_inflation_factor\n",
    "from sklearn.metrics import confusion_matrix\n",
    "from sklearn.metrics import classification_report"
   ]
  },
  {
   "cell_type": "code",
   "execution_count": null,
   "id": "44f058b9",
   "metadata": {},
   "outputs": [],
   "source": [
    "df = pd.read_csv('bank-full.csv')"
   ]
  },
  {
   "cell_type": "code",
   "execution_count": null,
   "id": "8424cc9a",
   "metadata": {},
   "outputs": [],
   "source": [
    "df1 = df.copy()"
   ]
  },
  {
   "cell_type": "code",
   "execution_count": null,
   "id": "a8e1bf3d",
   "metadata": {},
   "outputs": [],
   "source": [
    "df1"
   ]
  },
  {
   "cell_type": "code",
   "execution_count": null,
   "id": "c4f8346c",
   "metadata": {},
   "outputs": [],
   "source": [
    "df1.describe()"
   ]
  },
  {
   "cell_type": "code",
   "execution_count": null,
   "id": "33615ad4",
   "metadata": {},
   "outputs": [],
   "source": [
    "sns.pairplot(df1)"
   ]
  },
  {
   "cell_type": "code",
   "execution_count": null,
   "id": "1e3f86a7",
   "metadata": {},
   "outputs": [],
   "source": [
    "df1['y'].value_counts()"
   ]
  },
  {
   "cell_type": "code",
   "execution_count": null,
   "id": "a294ed14",
   "metadata": {},
   "outputs": [],
   "source": [
    "count_no_sub = len(df1[df1['y']==\"no\"])\n",
    "count_sub = len(df1[df1['y']==\"yes\"])"
   ]
  },
  {
   "cell_type": "code",
   "execution_count": null,
   "id": "de5fbec9",
   "metadata": {},
   "outputs": [],
   "source": [
    "(count_sub / (count_sub + count_no_sub))*100"
   ]
  },
  {
   "cell_type": "markdown",
   "id": "716daaf5",
   "metadata": {},
   "source": [
    "Percentage of Client Subscribed is 11.70 % in the current data set"
   ]
  },
  {
   "cell_type": "code",
   "execution_count": null,
   "id": "f2b6e2eb",
   "metadata": {},
   "outputs": [],
   "source": [
    "pd.crosstab(df1.job,df1.y).plot(kind='bar')\n",
    "plt.title('Subscribed Frequency for Job Title')\n",
    "plt.xlabel('Job')\n",
    "plt.ylabel('Frequency of subscribtion')"
   ]
  },
  {
   "cell_type": "markdown",
   "id": "16221fbd",
   "metadata": {},
   "source": [
    "The frequency of subscribtion depends a great deal on the job title. Thus, the job title can be a good predictor of the outcome variable."
   ]
  },
  {
   "cell_type": "code",
   "execution_count": null,
   "id": "9f8893bf",
   "metadata": {},
   "outputs": [],
   "source": [
    "table=pd.crosstab(df1.marital,df1.y)\n",
    "table.div(table.sum(1).astype(float), axis=0).plot(kind='bar', stacked=True)\n",
    "plt.title('Stacked Bar Chart of Marital Status vs Subscribed')\n",
    "plt.xlabel('Marital Status')\n",
    "plt.ylabel('Proportion of Customers')"
   ]
  },
  {
   "cell_type": "markdown",
   "id": "8439d52e",
   "metadata": {},
   "source": [
    "The marital status seem a strong predictor for the outcome variable"
   ]
  },
  {
   "cell_type": "code",
   "execution_count": null,
   "id": "ecc49171",
   "metadata": {},
   "outputs": [],
   "source": [
    "table=pd.crosstab(df1.education,df1.y)\n",
    "table.div(table.sum(1).astype(float), axis=0).plot(kind='bar', stacked=True)\n",
    "plt.title('Stacked Bar Chart of Education vs Subscribed')\n",
    "plt.xlabel('Education')\n",
    "plt.ylabel('Proportion of Customers')"
   ]
  },
  {
   "cell_type": "markdown",
   "id": "8701c952",
   "metadata": {},
   "source": [
    "# Education seem a strong predictor for the outcome variable"
   ]
  },
  {
   "cell_type": "code",
   "execution_count": null,
   "id": "1059e0a9",
   "metadata": {},
   "outputs": [],
   "source": [
    "table=pd.crosstab(df1.contact,df1.y)\n",
    "table.div(table.sum(1).astype(float), axis=0).plot(kind='bar', stacked=True)\n",
    "plt.title('Stacked Bar Chart of Contact vs Subscribed')\n",
    "plt.xlabel('Contact')\n",
    "plt.ylabel('Proportion of Customers')"
   ]
  },
  {
   "cell_type": "markdown",
   "id": "24bdaa93",
   "metadata": {},
   "source": [
    "Contact does not seem a strong predictor for the outcome variable"
   ]
  },
  {
   "cell_type": "code",
   "execution_count": null,
   "id": "384cea67",
   "metadata": {},
   "outputs": [],
   "source": [
    "table=pd.crosstab(df1.poutcome,df1.y)\n",
    "table.div(table.sum(1).astype(float), axis=0).plot(kind='bar', stacked=True)\n",
    "plt.title('Stacked Bar Chart of Poutcome vs Subscribed')\n",
    "plt.xlabel('Poutcome')\n",
    "plt.ylabel('Proportion of Customers')"
   ]
  },
  {
   "cell_type": "markdown",
   "id": "503d8853",
   "metadata": {},
   "source": [
    "Poutcome does not seem a strong predictor for the outcome variable"
   ]
  },
  {
   "cell_type": "code",
   "execution_count": null,
   "id": "f90ee202",
   "metadata": {},
   "outputs": [],
   "source": [
    "df1.age.hist()\n",
    "plt.title('Histogram of Age')\n",
    "plt.xlabel('Age')\n",
    "plt.ylabel('Frequency')"
   ]
  },
  {
   "cell_type": "markdown",
   "id": "b25d7b51",
   "metadata": {},
   "source": [
    "Most of the customers are in age between 20 and 50 years"
   ]
  },
  {
   "cell_type": "code",
   "execution_count": null,
   "id": "ff04fffb",
   "metadata": {},
   "outputs": [],
   "source": [
    "pd.crosstab(df1.month,df1.y).plot(kind='bar')\n",
    "plt.title('Subscribed Frequency for Month')\n",
    "plt.xlabel('Month')\n",
    "plt.ylabel('Frequency of Subscribed')"
   ]
  },
  {
   "cell_type": "markdown",
   "id": "be8a160a",
   "metadata": {},
   "source": [
    "Month might be a good predictor of the outcome variable\n"
   ]
  },
  {
   "cell_type": "code",
   "execution_count": null,
   "id": "cb9626b6",
   "metadata": {},
   "outputs": [],
   "source": [
    "df1.day.hist()\n",
    "plt.title('Histogram of Duration')\n",
    "plt.xlabel('Duration')\n",
    "plt.ylabel('Frequency')"
   ]
  },
  {
   "cell_type": "code",
   "execution_count": null,
   "id": "fd2d9c3b",
   "metadata": {},
   "outputs": [],
   "source": [
    "df1['housing'].value_counts()"
   ]
  },
  {
   "cell_type": "markdown",
   "id": "a3576144",
   "metadata": {},
   "source": [
    "Data is somewhat evenly distributed on whether the client has House or not"
   ]
  },
  {
   "cell_type": "code",
   "execution_count": null,
   "id": "abcb3fb6",
   "metadata": {},
   "outputs": [],
   "source": [
    "df1['loan'].value_counts()"
   ]
  },
  {
   "cell_type": "markdown",
   "id": "281a40d2",
   "metadata": {},
   "source": [
    "However majority of the client do not have loan"
   ]
  },
  {
   "cell_type": "markdown",
   "id": "be65ddde",
   "metadata": {},
   "source": [
    "\n",
    "# 3 - Cleaning Data"
   ]
  },
  {
   "cell_type": "code",
   "execution_count": null,
   "id": "5ae2b896",
   "metadata": {},
   "outputs": [],
   "source": [
    "df1.isnull().sum()"
   ]
  },
  {
   "cell_type": "markdown",
   "id": "0919b652",
   "metadata": {},
   "source": [
    "Since there are no Null values in any column we don't have to create any exceptions"
   ]
  },
  {
   "cell_type": "markdown",
   "id": "f13c842d",
   "metadata": {},
   "source": [
    "# 4 - Logistic Regression Model"
   ]
  },
  {
   "cell_type": "code",
   "execution_count": null,
   "id": "215f2025",
   "metadata": {},
   "outputs": [],
   "source": [
    "df1 ['default'] = df1 ['default'].map({'yes': 1, 'no': 0})"
   ]
  },
  {
   "cell_type": "code",
   "execution_count": null,
   "id": "cb1f334f",
   "metadata": {},
   "outputs": [],
   "source": [
    "df1 ['housing'] = df1 ['housing'].map({'yes': 1, 'no': 0})"
   ]
  },
  {
   "cell_type": "code",
   "execution_count": null,
   "id": "760e0d44",
   "metadata": {},
   "outputs": [],
   "source": [
    "df1 ['loan'] = df1 ['loan'].map({'yes': 1, 'no': 0})"
   ]
  },
  {
   "cell_type": "code",
   "execution_count": null,
   "id": "fae86d95",
   "metadata": {},
   "outputs": [],
   "source": [
    "df1 ['y'] = df1 ['y'].map({'yes': 1, 'no': 0})"
   ]
  },
  {
   "cell_type": "code",
   "execution_count": null,
   "id": "2f694e26",
   "metadata": {},
   "outputs": [],
   "source": [
    "df1 = pd.get_dummies(df1, columns=['job'])"
   ]
  },
  {
   "cell_type": "code",
   "execution_count": null,
   "id": "182511e6",
   "metadata": {},
   "outputs": [],
   "source": [
    "df1 = pd.get_dummies(df1, columns=['marital'])"
   ]
  },
  {
   "cell_type": "code",
   "execution_count": null,
   "id": "e9a637c3",
   "metadata": {},
   "outputs": [],
   "source": [
    "df1 = pd.get_dummies(df1, columns=['education'])"
   ]
  },
  {
   "cell_type": "code",
   "execution_count": null,
   "id": "b8071767",
   "metadata": {},
   "outputs": [],
   "source": [
    "df1 = pd.get_dummies(df1, columns=['month'])"
   ]
  },
  {
   "cell_type": "code",
   "execution_count": null,
   "id": "c5abe5e2",
   "metadata": {},
   "outputs": [],
   "source": [
    "df1 = df1.drop(['contact', 'poutcome'], axis=1)"
   ]
  },
  {
   "cell_type": "code",
   "execution_count": null,
   "id": "e478aaa9",
   "metadata": {},
   "outputs": [],
   "source": [
    "X = df1.loc[:, df1.columns != 'y']\n",
    "y = df1.loc[:, df1.columns == 'y']"
   ]
  },
  {
   "cell_type": "code",
   "execution_count": null,
   "id": "39e396dc",
   "metadata": {},
   "outputs": [],
   "source": [
    "logreg = LogisticRegression()"
   ]
  },
  {
   "cell_type": "code",
   "execution_count": null,
   "id": "08b4cd69",
   "metadata": {},
   "outputs": [],
   "source": [
    "rfe = RFE(logreg, 20)\n",
    "rfe = rfe.fit(X, y.values.ravel())\n",
    "print(rfe.support_)\n",
    "print(rfe.ranking_)"
   ]
  },
  {
   "cell_type": "markdown",
   "id": "875f920b",
   "metadata": {},
   "source": [
    "As per Recursive Feature Elimination (RFE) analysis we can exclude all the variables which are False"
   ]
  },
  {
   "cell_type": "code",
   "execution_count": null,
   "id": "28a995e4",
   "metadata": {},
   "outputs": [],
   "source": [
    "X = df1[['default', 'housing', 'loan', 'job_housemaid', 'job_retired', 'job_student', 'marital_married', 'education_primary', 'education_unknown', 'month_aug', 'month_dec', 'month_feb', 'month_jan', 'month_jul', 'month_jun', 'month_mar', 'month_may', 'month_nov', 'month_oct', 'month_sep']]\n",
    "y = df1.loc[:, df1.columns == 'y']\n"
   ]
  },
  {
   "cell_type": "code",
   "execution_count": null,
   "id": "4476cc74",
   "metadata": {},
   "outputs": [],
   "source": [
    "logit=sm.Logit(y,X)\n",
    "result = logit.fit()"
   ]
  },
  {
   "cell_type": "code",
   "execution_count": null,
   "id": "a2e4609d",
   "metadata": {},
   "outputs": [],
   "source": [
    "result.summary()"
   ]
  },
  {
   "cell_type": "markdown",
   "id": "28e389d4",
   "metadata": {},
   "source": [
    "All variables have significant p value"
   ]
  },
  {
   "cell_type": "code",
   "execution_count": null,
   "id": "ed7e14ee",
   "metadata": {},
   "outputs": [],
   "source": [
    "logreg.fit(X, y)"
   ]
  },
  {
   "cell_type": "code",
   "execution_count": null,
   "id": "f878ebf4",
   "metadata": {},
   "outputs": [],
   "source": [
    "y_pred = logreg.predict(X)\n",
    "print('Accuracy of logistic regression classifier on test set: {:.2f}'.format(logreg.score(X, y)))"
   ]
  },
  {
   "cell_type": "code",
   "execution_count": null,
   "id": "0d5483f1",
   "metadata": {},
   "outputs": [],
   "source": [
    "print(classification_report(y, y_pred))"
   ]
  },
  {
   "cell_type": "code",
   "execution_count": null,
   "id": "576f8cc9",
   "metadata": {},
   "outputs": [],
   "source": [
    "confusion_matrix(y, y_pred)"
   ]
  },
  {
   "cell_type": "markdown",
   "id": "1664ff3e",
   "metadata": {},
   "source": [
    "5 - Output Interpretation\n",
    "1 - Confusion Matrix\n",
    "The result is telling us that we have 39455+456 correct predictions and 4833+467 incorrect predictions.\n",
    "\n",
    "2 - Accuracy == 84%\n",
    "Of the entire data set, 84% of the clients will subcribe"
   ]
  },
  {
   "cell_type": "code",
   "execution_count": null,
   "id": "d92f2259",
   "metadata": {},
   "outputs": [],
   "source": []
  },
  {
   "cell_type": "code",
   "execution_count": null,
   "id": "2558d51f",
   "metadata": {},
   "outputs": [],
   "source": []
  },
  {
   "cell_type": "code",
   "execution_count": null,
   "id": "3aa8cc15",
   "metadata": {},
   "outputs": [],
   "source": []
  },
  {
   "cell_type": "code",
   "execution_count": null,
   "id": "11be669e",
   "metadata": {},
   "outputs": [],
   "source": []
  },
  {
   "cell_type": "code",
   "execution_count": null,
   "id": "5006bdd3",
   "metadata": {},
   "outputs": [],
   "source": []
  }
 ],
 "metadata": {
  "kernelspec": {
   "display_name": "Python 3 (ipykernel)",
   "language": "python",
   "name": "python3"
  },
  "language_info": {
   "codemirror_mode": {
    "name": "ipython",
    "version": 3
   },
   "file_extension": ".py",
   "mimetype": "text/x-python",
   "name": "python",
   "nbconvert_exporter": "python",
   "pygments_lexer": "ipython3",
   "version": "3.9.7"
  }
 },
 "nbformat": 4,
 "nbformat_minor": 5
}
